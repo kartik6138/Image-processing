{
 "cells": [
  {
   "cell_type": "code",
   "execution_count": 2,
   "id": "ac60431d",
   "metadata": {},
   "outputs": [],
   "source": [
    "import cv2 as cv\n",
    "import numpy as np\n",
    "from PIL import Image"
   ]
  },
  {
   "cell_type": "code",
   "execution_count": 3,
   "id": "c5bee9cd",
   "metadata": {},
   "outputs": [],
   "source": [
    "img1=cv.imread(\"11.jpg\")\n",
    "img2=cv.imread('22.jpg')"
   ]
  },
  {
   "cell_type": "code",
   "execution_count": null,
   "id": "fc400546",
   "metadata": {},
   "outputs": [],
   "source": [
    "bitwise_AND = cv.bitwise_and(img1, img2)\n",
    "bitwise_OR = cv.bitwise_or(img1, img2)\n",
    "bitwise_NOT = cv.bitwise_not(img1)\n",
    "cv.imshow('img1',img1)\n",
    "cv.imshow('img2',img2)\n",
    "cv.imshow('AND',bitwise_AND)\n",
    "cv.imshow('OR',bitwise_OR)\n",
    "cv.imshow('NOT',bitwise_NOT)\n",
    "if cv.waitKey(0) & 0xff == 27: \n",
    "    cv.destroyAllWindows()"
   ]
  },
  {
   "cell_type": "code",
   "execution_count": null,
   "id": "5921ff6e",
   "metadata": {},
   "outputs": [],
   "source": []
  },
  {
   "cell_type": "code",
   "execution_count": null,
   "id": "dc4e874f",
   "metadata": {},
   "outputs": [],
   "source": []
  }
 ],
 "metadata": {
  "kernelspec": {
   "display_name": "Python 3 (ipykernel)",
   "language": "python",
   "name": "python3"
  },
  "language_info": {
   "codemirror_mode": {
    "name": "ipython",
    "version": 3
   },
   "file_extension": ".py",
   "mimetype": "text/x-python",
   "name": "python",
   "nbconvert_exporter": "python",
   "pygments_lexer": "ipython3",
   "version": "3.9.7"
  }
 },
 "nbformat": 4,
 "nbformat_minor": 5
}
