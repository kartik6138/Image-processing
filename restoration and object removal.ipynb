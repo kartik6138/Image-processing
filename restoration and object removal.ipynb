{
 "cells": [
  {
   "cell_type": "code",
   "execution_count": null,
   "id": "acde619d",
   "metadata": {},
   "outputs": [],
   "source": [
    "#Image restoration\n",
    "\n",
    "import numpy as np\n",
    "import cv2\n",
    "\n",
    "img = cv2.imread('flower.jpg')\n",
    "grayscale = cv2.cvtColor(img, cv2.COLOR_BGR2RGB)\n",
    "\n",
    "# edge_kernel = np.array([[-1,-1,-1], [-1,9,-1], [-1,-1,-1]])\n",
    "sharpen_kernel = np.array([[0,-1,0], [-1,5,-1], [0,-1,0]])\n",
    "img = cv2.filter2D(grayscale, -1, sharpen_kernel)\n",
    "\n",
    "# Smooth out image\n",
    "# blur = cv2.medianBlur(img, 3)\n",
    "blur = cv2.GaussianBlur(img, (3,3), 0)\n",
    "\n",
    "cv2.imshow('img',img)\n",
    "cv2.imwrite('img.png',img)\n",
    "cv2.imshow('blur',blur)\n",
    "cv2.waitKey(0)"
   ]
  },
  {
   "cell_type": "code",
   "execution_count": 1,
   "id": "6ef1b29b",
   "metadata": {},
   "outputs": [],
   "source": [
    "#Remove part of the image\n",
    "from PIL import Image\n",
    "import numpy as np      \n",
    "  \n",
    "# Opening the image and converting \n",
    "# it to RGB color mode\n",
    "# IMAGE_PATH => Path to the image\n",
    "img = Image.open('flower.jpg').convert('RGB')\n",
    "  \n",
    "# Extracting the image data &\n",
    "# creating an numpy array out of it\n",
    "img_arr = np.array(img)\n",
    "  \n",
    "# Turning the pixel values of the 400x400 pixels to black \n",
    "img_arr[0 : 400, 0 : 400] = (0, 0, 0)\n",
    "  \n",
    "# Creating an image out of the previously modified array\n",
    "img = Image.fromarray(img_arr)\n",
    "  \n",
    "# Displaying the image\n",
    "img.show()"
   ]
  },
  {
   "cell_type": "code",
   "execution_count": null,
   "id": "6e84a079",
   "metadata": {},
   "outputs": [],
   "source": []
  },
  {
   "cell_type": "code",
   "execution_count": null,
   "id": "51f9ca5d",
   "metadata": {},
   "outputs": [],
   "source": []
  },
  {
   "cell_type": "code",
   "execution_count": null,
   "id": "fd024a40",
   "metadata": {},
   "outputs": [],
   "source": []
  }
 ],
 "metadata": {
  "kernelspec": {
   "display_name": "Python 3 (ipykernel)",
   "language": "python",
   "name": "python3"
  },
  "language_info": {
   "codemirror_mode": {
    "name": "ipython",
    "version": 3
   },
   "file_extension": ".py",
   "mimetype": "text/x-python",
   "name": "python",
   "nbconvert_exporter": "python",
   "pygments_lexer": "ipython3",
   "version": "3.9.7"
  }
 },
 "nbformat": 4,
 "nbformat_minor": 5
}
